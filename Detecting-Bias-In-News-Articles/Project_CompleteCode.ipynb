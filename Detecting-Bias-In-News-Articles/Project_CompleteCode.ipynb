{
 "cells": [
  {
   "cell_type": "markdown",
   "metadata": {},
   "source": [
    "# Bias Detection in News Articles"
   ]
  },
  {
   "cell_type": "markdown",
   "metadata": {},
   "source": [
    "## Importing Required Libraries"
   ]
  },
  {
   "cell_type": "code",
   "execution_count": 1,
   "metadata": {},
   "outputs": [],
   "source": [
    "import pandas as pd\n",
    "import datetime \n",
    "from newsapi import NewsApiClient\n",
    "import numpy as np\n",
    "from newspaper import Article\n",
    "import seaborn as sns\n",
    "import matplotlib.pyplot as plt\n",
    "from scipy import stats\n",
    "from nltk.tokenize import word_tokenize\n",
    "from nltk.tokenize import sent_tokenize\n",
    "import nltk\n",
    "from nltk.stem import WordNetLemmatizer\n",
    "from nltk.tokenize import RegexpTokenizer\n",
    "from nltk.corpus import stopwords \n",
    "from nltk.corpus import wordnet\n",
    "from urllib.parse import urlencode"
   ]
  },
  {
   "cell_type": "markdown",
   "metadata": {},
   "source": [
    "## Fetching Real-Time News Article Contents - Google News API\n",
    "\n",
    "The get_dataframe method is provided with the user's topic of interest. The new articles related to the topic in the given time frame are fetched from google news API. The JSON is processed and relevant information is converted into a dataframe for further processing."
   ]
  },
  {
   "cell_type": "code",
   "execution_count": 21,
   "metadata": {
    "scrolled": true
   },
   "outputs": [],
   "source": [
    "#Datframe GENERATOR\n",
    "def get_dataframe(search_term, from_date='2019-12-01', to_date='2019-12-07'):    \n",
    "    newsapi = NewsApiClient(api_key='a3c4cafe7819435e8bc9e352724d5f6b')\n",
    "#search_term ='impeachment'\n",
    "    mydict = {'q': search_term}\n",
    "    encoded_search = urlencode(mydict)\n",
    "    domains = ['washingtonpost.com', 'nytimes.com', 'cnn.com', 'foxnews.com',\n",
    "           'usatoday.com', 'npr.org', 'bloomberg.com','nypost.com','breitbart.com']    \n",
    "    name = []\n",
    "    author = []\n",
    "    title =[]\n",
    "    published_time = []\n",
    "    url = []    \n",
    "    for i in range(len(domains)):\n",
    "        all_articles = newsapi.get_everything(q=search_term,\n",
    "                                      domains= domains[i],\n",
    "                                      from_param=from_date,\n",
    "                                      to=to_date,\n",
    "                                      language='en',\n",
    "                                      sort_by='relevancy',\n",
    "                                      page=1)        \n",
    "        list_articles = all_articles['articles']\n",
    "        for j in range(len(list_articles)):\n",
    "            name.append(list_articles[j]['source']['name'])\n",
    "            author.append(list_articles[j]['author'])\n",
    "            title.append(list_articles[j]['title'])\n",
    "            published_time.append(list_articles[j]['publishedAt'])\n",
    "            url.append(list_articles[j]['url'])    \n",
    "            text = []\n",
    "    for i in range(len(url)):\n",
    "        article = Article(url[i])\n",
    "        print(i)\n",
    "        try:\n",
    "            article.download()\n",
    "            article.parse()\n",
    "            content = article.text\n",
    "            text.append(content)\n",
    "        except :\n",
    "            text.append(\"\")    \n",
    "    newsarticle = pd.DataFrame()\n",
    "    newsarticle['source'] = np.asarray(name)\n",
    "    newsarticle['author'] = np.asarray(author)\n",
    "    newsarticle['title'] = np.asarray(title)\n",
    "    newsarticle['published_time'] = np.asarray(published_time)\n",
    "    newsarticle['url'] = np.asarray(url)\n",
    "    newsarticle['content'] = np.asarray(text)\n",
    "    newsarticle['words'] = newsarticle['content'].str.split().str.len()    \n",
    "    newsarticle = newsarticle[newsarticle['content'] != '']\n",
    "    newsarticle = newsarticle[newsarticle['words'] > 100]    \n",
    "    return newsarticle"
   ]
  },
  {
   "cell_type": "markdown",
   "metadata": {},
   "source": [
    "## Text Processing using NLP Techniques\n",
    "\n",
    "1. Tokenization\n",
    "2. Stop Words Removal\n",
    "2. Lemmatization\n",
    "3. Parts of Speech tagging\n",
    "4. Bag of Words"
   ]
  },
  {
   "cell_type": "code",
   "execution_count": 22,
   "metadata": {},
   "outputs": [],
   "source": [
    "stop_words = set(stopwords.words('english'))\n",
    "#BIAS_SCORE_ESTIMATOR\n",
    "with open('bias-lexicon.txt', 'r') as f:\n",
    "    # Strips leading and trailing whitespaces in text\n",
    "    bias_lexicon = []\n",
    "    for line in f.readlines():\n",
    "        bias_lexicon.append(line.strip())\n",
    "    bias_lexicon \n",
    "\n",
    "# Bias in a sentence \n",
    "def is_sentence_bias(sentence):\n",
    "    \"\"\" Decides if a sentence contains bias word(s) or not.\n",
    "    \"\"\"\n",
    "    wordsList = word_tokenize(sentence) \n",
    "    wordsList = [w for w in wordsList if not w in stop_words]    \n",
    "    tagged = nltk.pos_tag(wordsList)\n",
    "    for word in tagged:\n",
    "        if \"VB\" in word[1]:\n",
    "            for bias_word in bias_lexicon:\n",
    "                lemmatizer=WordNetLemmatizer()\n",
    "                lemma=lemmatizer.lemmatize(word[0].lower(), wordnet.VERB)\n",
    "                if lemma == bias_word:\n",
    "                    return True\n",
    "    return False\n",
    "\n",
    "# Bias in a document\n",
    "def bias_score_estimator(row):\n",
    "    \"\"\" Calculates a bias score for a news article per the bias lexicon.\n",
    "    \n",
    "    Arg: \n",
    "        Row: A news article in the news_article dataframe.\n",
    "    Returns: \n",
    "        A bias score from 0 to 1 with 1 being the most biased.  \n",
    "    \"\"\"\n",
    "    bias_sent_count=0\n",
    "    sentences_list = sent_tokenize(row)\n",
    "    for sentence in sentences_list:\n",
    "        if is_sentence_bias(sentence):\n",
    "            bias_sent_count+=1\n",
    "    return bias_sent_count/len(sentences_list)\n",
    "            "
   ]
  },
  {
   "cell_type": "markdown",
   "metadata": {},
   "source": [
    "## A simple command line interface to interact with the System"
   ]
  },
  {
   "cell_type": "code",
   "execution_count": null,
   "metadata": {},
   "outputs": [],
   "source": [
    "#USER_INTERFACE\n",
    "def take_user_input():\n",
    "    user_query=input('Enter your search query: ')\n",
    "    user_dates=input(\"Do you have a specific timeframe in mind [If your answer is N, we will pull out the recent ones]: Type Y/N:\")\n",
    "    if user_dates=='N':\n",
    "        end_date=datetime.date.today().strftime(\"%Y-%m-%d\")\n",
    "        start_date=datetime.date.today() - datetime.timedelta(days=5)\n",
    "    elif user_dates=='Y':\n",
    "        start_date=input(\"Please enter the start date: [format: 'yyyy-mm-dd']:\")\n",
    "        end_date=input(\"Please enter the end date: [format: 'yyyy-mm-dd']:\")\n",
    "    else:\n",
    "        print(\"That's an invalid Input. Please enter a valid input\")\n",
    "        take_user_input()\n",
    "    user_choice=int(input(\"Enter 1 if you want to retrieve based on news publication: \\n\"\\\n",
    "    \"Enter 2 if you want to retrieve based on poltical spectrum: \\n\"\\\n",
    "    \"Enter 3 if it doesn't matter: \"))\n",
    "    if user_choice==1:\n",
    "        user_politics=None\n",
    "        user_source=input(\"Please input the sources you want to check out:\\n\"\\\n",
    "                            \"washingtonpost.com\\n\"\\\n",
    "                            \"nytimes.com\\n\"\\\n",
    "                              \"cnn.com \\n\"\\\n",
    "                          \"foxnews.com\\n\"\\\n",
    "                           \"usatoday.com\\n\"\\\n",
    "                            \"npr.org\\n\"\\\n",
    "                          \"bloomberg.com\\n\"\\\n",
    "                          \"nypost.com\\n\"\\\n",
    "                          \"breitbart.com\")\n",
    "    elif user_choice==2:\n",
    "        user_source=None\n",
    "        user_politics=input(\"Please input your choice: \\n\"\\\n",
    "                            \"left\\n\"\\\n",
    "                            \"right\\n\"\\\n",
    "                            \"center\\n\")\n",
    "    elif user_choice==3:\n",
    "        user_source=None\n",
    "        user_politics=None\n",
    "    else: \n",
    "        print(\"That's an invalid Input. Please enter a valid input\")\n",
    "        take_user_input()\n",
    "    user_bias=int(input(\"Enter your bias score order preference: \\n\"\\\n",
    "                    \"1->retrieve in ascending order\\n\"\\\n",
    "                    \"2-> retrieve in descending order\\n\"))\n",
    "    user_bias_from_range=float(input(\"Enter your bias score range from preference: (Specify between range 0.1 and 1) \\n\"))\n",
    "    user_bias_to_range=float(input(\"Enter your bias score range to preference: (Specify a range between 0.1 and 1)  \\n\"))\n",
    "    user_num=int(input(\"Specify the number of articles to be retrieved: \"))\n",
    "    return [user_query, start_date, end_date, user_source, user_politics, user_bias, user_bias_from_range, user_bias_to_range, user_num]"
   ]
  },
  {
   "cell_type": "code",
   "execution_count": 24,
   "metadata": {},
   "outputs": [],
   "source": [
    "#ADDITIONAL COLUMNS\n",
    "def bias_retrieve(src):\n",
    "    side_dict = {'The Washington Post': 'left', 'The New York Times': 'left', 'CNN': 'left', 'Fox News': 'right',\n",
    "               'USA Today': 'centre', 'Npr.org':'centre', 'Bloomberg':'center','Nypost.com': 'right','Breitbart News':'right'}\n",
    "    return side_dict[src]\n",
    "def add_columns(df):\n",
    "    df['bias_side']=df['source'].apply(bias_retrieve)\n",
    "    df['bias_score']=df['content'].apply(bias_score_estimator)\n",
    "    return df"
   ]
  },
  {
   "cell_type": "markdown",
   "metadata": {},
   "source": [
    "## The Information Retrieval System"
   ]
  },
  {
   "cell_type": "code",
   "execution_count": 25,
   "metadata": {},
   "outputs": [],
   "source": [
    "#RETRIEVAL\n",
    "def user_retrieval(user_prefs, news_trunc):\n",
    "    if user_prefs[3]!=None:\n",
    "        news_trunc=news_trunc[news_trunc['source']==user_prefs[3]]\n",
    "    elif user_prefs[4]!=None:\n",
    "        news_trunc=news_trunc[news_trunc['bias_side']==user_prefs[4]]\n",
    "    news_trunc=news_trunc[(news_trunc['bias_score']>=user_prefs[6])&(news_trunc['bias_score']<=user_prefs[7])]\n",
    "    if user_prefs[5]==1:\n",
    "        news_trunc.sort_values(by=['bias_score'], inplace=True)\n",
    "    else:\n",
    "        news_trunc.sort_values(by=['bias_score'], ascending=False, inplace=True)\n",
    "    news_trunc=news_trunc[0:user_prefs[8]]\n",
    "    return news_trunc"
   ]
  },
  {
   "cell_type": "markdown",
   "metadata": {},
   "source": [
    "## Project Demo"
   ]
  },
  {
   "cell_type": "code",
   "execution_count": null,
   "metadata": {
    "scrolled": true
   },
   "outputs": [
    {
     "name": "stdout",
     "output_type": "stream",
     "text": [
      "Enter your search query: impeachment\n",
      "Do you have a specific timeframe in mind [If your answer is N, we will pull out the recent ones]: Type Y/N:N\n",
      "Enter 1 if you want to retrieve based on news publication: \n",
      "Enter 2 if you want to retrieve based on poltical spectrum: \n",
      "Enter 3 if it doesn't matter: 2\n",
      "Please input your choice: \n",
      "left\n",
      "right\n",
      "center\n",
      "left\n",
      "Enter your bias score order preference: \n",
      "1->retrieve in ascending order\n",
      "2-> retrieve in descending order\n",
      "1\n",
      "Enter your bias score range from preference: (Specify between range 0.1 and 1: \n",
      "0\n",
      "Enter your bias score range to preference: (Specify a range between 0.1 and 1:  \n",
      "1\n"
     ]
    }
   ],
   "source": [
    "#DEMO\n",
    "user_prefs=take_user_input()\n",
    "#news=get_dataframe(user_prefs[0], user_prefs[1], user_prefs[2])\n",
    "#news.to_csv(r'primary.csv', header = True)\n",
    "#news=add_columns(news)\n",
    "news_df=user_retrieval(user_prefs, news)"
   ]
  },
  {
   "cell_type": "markdown",
   "metadata": {},
   "source": [
    "## Displaying the Results"
   ]
  },
  {
   "cell_type": "code",
   "execution_count": 32,
   "metadata": {},
   "outputs": [],
   "source": [
    "#DISPLAY\n",
    "def display_df(trunc_df):\n",
    "    i=1\n",
    "    print(\"****** LIST OF NEWS ARTICLES ******\")\n",
    "    print(\"\\n\")\n",
    "    for index,row in trunc_df.iterrows():\n",
    "        print(i)\n",
    "        i+=1\n",
    "        print(\"HEADLINE:\", row['title'])\n",
    "        print(\"PUBLICATION:\", row['source'])\n",
    "        print(\"BIAS_SCORE:\", row['bias_score'])\n",
    "        print(\"URL:\", row['url'])\n",
    "        print(\"\\n\")"
   ]
  },
  {
   "cell_type": "code",
   "execution_count": 33,
   "metadata": {
    "scrolled": false
   },
   "outputs": [
    {
     "name": "stdout",
     "output_type": "stream",
     "text": [
      "****** LIST OF NEWS ARTICLES ******\n",
      "\n",
      "\n",
      "1\n",
      "HEADLINE: Marvin Miller’s Hall of Fame nod overshadows Yankees snub\n",
      "PUBLICATION: Nypost.com\n",
      "BIAS_SCORE: 0.4\n",
      "URL: https://nypost.com/2019/12/08/marvin-millers-hall-of-fame-nod-overshadows-yankees-snub/\n",
      "\n",
      "\n",
      "2\n",
      "HEADLINE: Rep. Elise Stefanik (R-NY) On The Left’s Vicious Attacks & The Answers She is Demanding From Adam Schiff\n",
      "PUBLICATION: Fox News\n",
      "BIAS_SCORE: 0.4247311827956989\n",
      "URL: https://radio.foxnews.com/2019/12/05/rep-elise-stefanik-r-ny-on-the-lefts-vicious-attacks-the-answers-she-is-demanding-from-adam-schiff/\n",
      "\n",
      "\n",
      "3\n",
      "HEADLINE: Republicans’ disdain for intellectualism was on display in Wednesday’s hearing\n",
      "PUBLICATION: The Washington Post\n",
      "BIAS_SCORE: 0.42857142857142855\n",
      "URL: https://www.washingtonpost.com/politics/2019/12/06/republicans-disdain-intellectualism-was-display-wednesdays-hearing/\n",
      "\n",
      "\n",
      "4\n",
      "HEADLINE: ‘We Are Fleeing the Law’: Hong Kong Protesters Escape to Taiwan\n",
      "PUBLICATION: The New York Times\n",
      "BIAS_SCORE: 0.4390243902439024\n",
      "URL: https://www.nytimes.com/2019/12/08/world/asia/hong-kong-taiwan-protests.html\n",
      "\n",
      "\n"
     ]
    }
   ],
   "source": [
    "display_df(news_df)"
   ]
  },
  {
   "cell_type": "markdown",
   "metadata": {},
   "source": [
    "## Graphical Visualization"
   ]
  },
  {
   "cell_type": "code",
   "execution_count": 34,
   "metadata": {
    "scrolled": true
   },
   "outputs": [
    {
     "data": {
      "text/plain": [
       "<seaborn.axisgrid.FacetGrid at 0x12d118850>"
      ]
     },
     "execution_count": 34,
     "metadata": {},
     "output_type": "execute_result"
    },
    {
     "data": {
      "image/png": "[encoded data removed]",
      "text/plain": [
       "<Figure size 360x360 with 1 Axes>"
      ]
     },
     "metadata": {
      "needs_background": "light"
     },
     "output_type": "display_data"
    }
   ],
   "source": [
    "#Overview\n",
    "sns.catplot(x=\"bias_side\", y=\"bias_score\",  jitter=True, data=news)"
   ]
  },
  {
   "cell_type": "code",
   "execution_count": 35,
   "metadata": {},
   "outputs": [
    {
     "data": {
      "text/plain": [
       "<matplotlib.axes._subplots.AxesSubplot at 0x130806450>"
      ]
     },
     "execution_count": 35,
     "metadata": {},
     "output_type": "execute_result"
    },
    {
     "data": {
      "image/png": "[encoded data removed]",
      "text/plain": [
       "<Figure size 432x288 with 1 Axes>"
      ]
     },
     "metadata": {
      "needs_background": "light"
     },
     "output_type": "display_data"
    }
   ],
   "source": [
    "sns.boxplot(x=\"bias_side\", y=\"bias_score\", data=news)"
   ]
  },
  {
   "cell_type": "code",
   "execution_count": null,
   "metadata": {},
   "outputs": [],
   "source": []
  }
 ],
 "metadata": {
  "kernelspec": {
   "display_name": "Python 3",
   "language": "python",
   "name": "python3"
  },
  "language_info": {
   "codemirror_mode": {
    "name": "ipython",
    "version": 3
   },
   "file_extension": ".py",
   "mimetype": "text/x-python",
   "name": "python",
   "nbconvert_exporter": "python",
   "pygments_lexer": "ipython3",
   "version": "3.7.4"
  }
 },
 "nbformat": 4,
 "nbformat_minor": 2
}
