{
 "cells": [
  {
   "cell_type": "code",
   "execution_count": 4,
   "metadata": {},
   "outputs": [],
   "source": [
    "import pandas as pd\n",
    "from newsapi import NewsApiClient\n",
    "import numpy as np\n",
    "from newspaper import Article"
   ]
  },
  {
   "cell_type": "code",
   "execution_count": 2,
   "metadata": {},
   "outputs": [],
   "source": [
    "\n",
    "def get_dataframe(search_term, from_date='2019-12-01', to_date='2019-12-07'):\n",
    "\n",
    "    newsapi = NewsApiClient(api_key='a3c4cafe7819435e8bc9e352724d5f6b')\n",
    "    search_term ='impeachment'\n",
    "    domains = ['washingtonpost.com', 'nytimes.com', 'cnn.com', 'foxnews.com',\n",
    "           'usatoday.com', 'npr.org', 'bloomberg.com','nypost.com','breitbart.com']\n",
    "\n",
    "    name = []\n",
    "    author = []\n",
    "    title =[]\n",
    "    published_time = []\n",
    "    url = []\n",
    "\n",
    "    for i in range(len(domains)):\n",
    "        all_articles = newsapi.get_everything(q= search_term,\n",
    "                                      domains= domains[i],\n",
    "                                      from_param=from_date,\n",
    "                                      to=to_date,\n",
    "                                      language='en',\n",
    "                                      sort_by='relevancy',\n",
    "                                      page=1)\n",
    "    \n",
    "        list_articles = all_articles['articles']\n",
    "        for j in range(len(list_articles)):\n",
    "            name.append(list_articles[j]['source']['name'])\n",
    "            author.append(list_articles[j]['author'])\n",
    "            title.append(list_articles[j]['title'])\n",
    "            published_time.append(list_articles[j]['publishedAt'])\n",
    "            url.append(list_articles[j]['url'])\n",
    "        \n",
    "    text = []\n",
    "    for i in range(len(url)):\n",
    "        article = Article(url[i])\n",
    "        try: \n",
    "            article.download()\n",
    "            article.parse()\n",
    "            content = article.text\n",
    "            text.append(content)\n",
    "            print(i)\n",
    "        except :\n",
    "            text.append(\"\")\n",
    "        \n",
    "    newsarticle = pd.DataFrame()\n",
    "    newsarticle['source'] = np.asarray(name)\n",
    "    newsarticle['author'] = np.asarray(author)\n",
    "    newsarticle['title'] = np.asarray(title)\n",
    "    newsarticle['published_time'] = np.asarray(published_time)\n",
    "    newsarticle['url'] = np.asarray(url)\n",
    "    newsarticle['content'] = np.asarray(text)\n",
    "    newsarticle['words'] = newsarticle['content'].str.split().str.len()\n",
    "    \n",
    "    newsarticle = newsarticle[newsarticle['content'] != '']\n",
    "    newsarticle = newsarticle[newsarticle['words'] > 100]\n",
    "    \n",
    "    return newsarticle"
   ]
  },
  {
   "cell_type": "code",
   "execution_count": null,
   "metadata": {},
   "outputs": [],
   "source": []
  },
  {
   "cell_type": "code",
   "execution_count": 5,
   "metadata": {},
   "outputs": [],
   "source": [
    "    newsapi = NewsApiClient(api_key='a3c4cafe7819435e8bc9e352724d5f6b')\n",
    "    domains = ['washingtonpost.com', 'nytimes.com', 'cnn.com', 'foxnews.com',\n",
    "           'usatoday.com', 'npr.org', 'bloomberg.com','nypost.com','breitbart.com']\n",
    "\n",
    "    name = []\n",
    "    author = []\n",
    "    title =[]\n",
    "    published_time = []\n",
    "    url = []\n",
    "\n",
    "    for i in range(len(domains)):\n",
    "        all_articles = newsapi.get_everything(q= 'epstein',\n",
    "                                      domains= domains[i],\n",
    "                                      from_param='2019-12-01',\n",
    "                                      to='2019-12-07',\n",
    "                                      language='en',\n",
    "                                      sort_by='relevancy',\n",
    "                                      page=1)\n",
    "    \n",
    "        list_articles = all_articles['articles']\n",
    "        for j in range(len(list_articles)):\n",
    "            name.append(list_articles[j]['source']['name'])\n",
    "            author.append(list_articles[j]['author'])\n",
    "            title.append(list_articles[j]['title'])\n",
    "            published_time.append(list_articles[j]['publishedAt'])\n",
    "            url.append(list_articles[j]['url'])\n",
    "        \n",
    "    text = []\n"
   ]
  },
  {
   "cell_type": "code",
   "execution_count": 6,
   "metadata": {},
   "outputs": [
    {
     "data": {
      "text/plain": [
       "['https://www.washingtonpost.com/world/europe/trump-calls-french-presidents-criticism-of-nato-as-nasty-and-disrespectful/2019/12/03/12e97730-0fc0-11ea-924c-b34d09bbc948_story.html',\n",
       " 'https://www.washingtonpost.com/world/europe/prince-andrew-accuser-tells-bbc-about-being-forced-to-have-sex-with-the-british-royal/2019/12/02/6c550e32-1511-11ea-80d6-d0ca7007273f_story.html',\n",
       " 'https://www.washingtonpost.com/world/europe/prince-andrews-accuser-asks-uk-public-for-support/2019/12/02/336c2686-1526-11ea-80d6-d0ca7007273f_story.html',\n",
       " 'https://www.washingtonpost.com/world/2019/12/03/trump-says-he-doesnt-know-britains-prince-andrew-they-had-breakfast-meeting-june/',\n",
       " 'https://www.washingtonpost.com/world/europe/prince-andrews-accuser-asks-uk-public-for-support/2019/12/03/637ead90-15cf-11ea-80d6-d0ca7007273f_story.html',\n",
       " 'https://www.washingtonpost.com/opinions/2019/12/05/did-devin-nunes-just-file-halfway-decent-defamation-suit/',\n",
       " 'https://www.washingtonpost.com/world/2019/12/02/auschwitz-themed-christmas-ornaments-pulled-amazon-following-backlash/',\n",
       " 'https://www.washingtonpost.com/news/powerpost/paloma/daily-202/2019/12/03/daily-202-hope-hicks-s-fbi-interviews-underscore-trump-s-impulse-to-stonewall-and-hold-back-damaging-info/5de5e9ba88e0fa652bbbdb74/',\n",
       " 'https://www.washingtonpost.com/world/europe/did-the-queen-scold-princess-anne-for-not-greeting-trump-many-sure-think-so/2019/12/04/9f155444-1683-11ea-80d6-d0ca7007273f_story.html',\n",
       " 'https://www.washingtonpost.com/news/powerpost/paloma/daily-202/2019/12/06/daily-202-joe-biden-is-putting-the-finishing-touches-on-an-immigration-plan-as-he-seeks-to-reassure-latinos/5de99160602ff1440b4dcac0/',\n",
       " 'https://www.nytimes.com/2019/12/02/world/europe/prince-andrews-Virginia-Roberts-Giuffre-bbc.html',\n",
       " 'https://www.nytimes.com/2019/12/01/world/europe/prince-charles-andrew-queen.html',\n",
       " 'https://www.nytimes.com/2019/12/02/business/dealbook/david-boies-jeffrey-epstein.html',\n",
       " 'https://www.nytimes.com/2019/12/03/world/europe/donald-trump-prince-andrew.html?partner=msn',\n",
       " 'https://www.nytimes.com/2019/12/03/briefing/boris-johnson-nato-china.html',\n",
       " 'https://www.nytimes.com/2019/12/03/world/europe/donald-trump-prince-andrew.html',\n",
       " 'https://www.cnn.com/videos/world/2019/12/03/prince-andrew-foster-acfc-full-episode-vpx.cnn',\n",
       " 'https://www.cnn.com/videos/world/2019/12/02/virginia-giuffre-prince-andrew-jeffrey-epstein-intv-bbc-sot-vpx.cnn',\n",
       " 'https://www.cnn.com/videos/world/2019/12/03/prince-andrew-accuser-virginia-giuffre-roberts-bbc-panorama-interview-foster-pkg-intl-ldn-vpx.cnn',\n",
       " 'https://edition.cnn.com/2019/12/02/uk/prince-andrew-virginia-giuffre-panorama-intl-gbr/index.html',\n",
       " 'https://www.foxnews.com/entertainment/crown-princess-mette-marit-norway-jeffrey-epstein',\n",
       " 'https://www.foxnews.com/us/jeffrey-epstein-prince-andrew-scandal-bill-clinton-questions-journalist',\n",
       " 'https://www.foxnews.com/us/9-more-women-accuse-jeffrey-epstein-of-sex-abuse-lawsuit-says',\n",
       " 'https://www.foxnews.com/entertainment/prince-andrew-royal-family-jeffrey-epstein-virginia-roberts-interview',\n",
       " 'https://www.foxnews.com/entertainment/prince-andrew-accuser-virginia-roberts-epstein-keep-him-happy',\n",
       " 'https://www.foxnews.com/entertainment/prince-andrew-accuser-virginia-roberts-bbc-interview',\n",
       " 'https://www.foxnews.com/entertainment/prince-andrew-prince-philip-epstein-scandal',\n",
       " 'https://www.foxnews.com/entertainment/prince-andrew-denies-virginia-roberts-jeffrey-epstein-tell-all-interview',\n",
       " 'https://www.foxnews.com/media/dominic-green-prince-andrew-virginia-roberts-epstein',\n",
       " 'https://www.foxnews.com/us/house-democrats-impeachment-report-trump-nato',\n",
       " 'https://www.foxnews.com/media/outnumbered-takes-on-hillarys-potential-2020-run-no-democrat-wants-this',\n",
       " 'https://www.foxnews.com/media/hillary-clinton-howard-stern-interview',\n",
       " 'https://www.foxnews.com/us/trump-impeachment-hearings-house-judiciary-committee-scholars',\n",
       " 'https://www.foxnews.com/entertainment/trump-melania-buckingham-palace-royal-family',\n",
       " 'https://www.foxnews.com/media/hillary-clinton-lesbian-denial-howard-stern-lgbtq',\n",
       " 'https://www.foxnews.com/entertainment/kathy-ireland-modeling-industry-career',\n",
       " 'https://www.foxnews.com/sports/treinen-sanchez-russell-sanchez-become-free-agents',\n",
       " 'https://www.usatoday.com/story/entertainment/celebrities/2019/12/02/prince-andrews-accuser-bbc-interview-repeats-her-sex-allegations/4331685002/?utm_source=google&utm_medium=amp&utm_campaign=speakable',\n",
       " 'https://www.usatoday.com/story/news/2019/12/05/trump-cowboys-bears-pearl-harbor-rose-parks-disney-star-wars/2598080001/?utm_source=google&utm_medium=amp&utm_campaign=speakable',\n",
       " 'https://www.usatoday.com/story/entertainment/celebrities/2019/12/04/princess-anne-why-all-eyes-her-after-nato-reception/2606496001/?utm_source=google&utm_medium=amp&utm_campaign=speakable',\n",
       " 'https://www.usatoday.com/story/entertainment/celebrities/2019/12/06/queen-elizabeth-not-retiring-when-she-turns-95-palace-says/4358125002/?utm_source=google&utm_medium=amp&utm_campaign=speakable',\n",
       " 'https://www.usatoday.com/videos/sports/nfl/whatimhearing/2019/12/02/why-cowboys-sticking-jason-garrett-now/2585383001/',\n",
       " 'https://www.usatoday.com/story/entertainment/celebrities/2019/12/06/meghan-markle-prince-harry-woes-prince-andrew-scandal-royal-moments-2019/2566780001/?utm_source=google&utm_medium=amp&utm_campaign=speakable',\n",
       " 'https://www.usatoday.com/videos/news/nation/2019/12/02/dershowitz-shakedown-plot-epstein-accuser/2587217001/',\n",
       " 'https://www.usatoday.com/story/sports/mlb/cubs/2019/12/02/chicago-cubs-cut-ties-controversial-infielder-addison-russell/2592207001/?utm_source=google&utm_medium=amp&utm_campaign=speakable',\n",
       " 'https://www.usatoday.com/story/sports/nfl/2019/12/03/cowboys-dak-prescott-lesson-from-brothers-fuel-motivation/2594063001/?utm_source=google&utm_medium=amp&utm_campaign=speakable',\n",
       " 'https://www.usatoday.com/story/sports/nfl/cowboys/2019/12/04/cowboys-defense-takeaway-issue/2606276001/?utm_source=google&utm_medium=amp&utm_campaign=speakable',\n",
       " 'https://www.usatoday.com/story/sports/nfl/cowboys/2019/12/05/dallas-cowboys-jason-garrett-jerry-jones-criticized-troy-aikman/2627265001/',\n",
       " 'https://www.usatoday.com/story/sports/nfl/cowboys/2019/12/01/dallas-cowboys-kickers-tryouts-brett-maher/4347188002/?utm_source=google&utm_medium=amp&utm_campaign=speakable',\n",
       " 'https://www.usatoday.com/story/sports/nfl/cowboys/2019/12/05/dallas-cowboys-amari-cooper-road-away-stats-chicago-bears/2612064001/?utm_source=google&utm_medium=amp&utm_campaign=speakable',\n",
       " 'https://www.usatoday.com/story/entertainment/celebrities/2019/12/03/trump-denies-knowing-prince-andrew-photos-them-together-surface/2597970001/?utm_source=google&utm_medium=amp&utm_campaign=speakable',\n",
       " 'https://www.usatoday.com/story/sports/nfl/cowboys/2019/12/06/jerry-jones-lashes-out-after-dallas-cowboys-loss-radio-show/4354579002/',\n",
       " 'https://www.usatoday.com/story/entertainment/celebrities/2019/12/03/trump-melania-queen-elizabeth-royal-family-palace-nato-party/2588959001/?utm_source=google&utm_medium=amp&utm_campaign=speakable',\n",
       " 'https://www.usatoday.com/story/sports/nfl/cowboys/2019/12/03/dallas-cowboys-jason-garrett-coach-jerry-jones-nfl/2595576001/?utm_source=google&utm_medium=amp&utm_campaign=speakable',\n",
       " 'https://www.usatoday.com/story/sports/columnist/nancy-armour/2019/12/03/nfc-east-title-wont-make-cowboys-eagles-worthy-home-playoff-game/2597446001/?utm_source=google&utm_medium=amp&utm_campaign=speakable',\n",
       " 'https://www.usatoday.com/story/opinion/2019/12/05/trump-impeachment-democrats-move-public-opinion-facts-column/2617201001/?utm_source=google&utm_medium=amp&utm_campaign=speakable',\n",
       " 'https://www.npr.org/2019/12/03/784343464/prince-andrew-faces-new-questions-about-his-ties-to-jeffrey-epstein',\n",
       " 'https://www.bloomberg.com/news/articles/2019-12-02/epstein-accuser-may-add-sex-abuse-claim-to-dershowitz-suit',\n",
       " 'https://nypost.com/2019/12/02/senators-demand-answers-from-doj-about-probe-into-epstein-death/',\n",
       " 'https://nypost.com/2019/12/05/prince-andrew-could-be-banned-from-queens-christmas-church-service/',\n",
       " 'https://nypost.com/2019/12/01/prince-andrew-in-constant-contact-with-epstein-ex-ghislaine-maxwell-report/',\n",
       " 'https://nypost.com/2019/12/02/buckingham-palace-denies-virginia-roberts-giuffres-sex-abuse-accusations/',\n",
       " 'https://nypost.com/2019/12/02/email-from-prince-andrew-seems-to-show-he-does-remember-virginia-giuffre/',\n",
       " 'https://nypost.com/2019/12/04/prince-andrews-friends-angry-bbc-let-virginia-roberts-giuffre-cry-a-lot/',\n",
       " 'https://nypost.com/2019/12/03/virginia-roberts-giuffres-dad-thinks-jeffrey-epstein-was-murdered/',\n",
       " 'https://nypost.com/2019/12/07/second-epstein-victim-says-she-had-sex-with-prince-andrew/',\n",
       " 'https://nypost.com/2019/12/03/jeffrey-epstein-accused-of-sexually-abusing-9-more-women-suit/',\n",
       " 'https://nypost.com/2019/12/02/sex-with-prince-andrew-was-quick-and-disgusting-virginia-roberts-giuffre/',\n",
       " 'https://nypost.com/2019/12/02/alan-dershowitz-may-be-forced-to-reveal-secret-communications-with-jeffrey-epstein/',\n",
       " 'https://nypost.com/2019/12/03/virginia-roberts-giuffres-dad-i-knows-shes-telling-the-truth/',\n",
       " 'https://nypost.com/2019/12/04/prince-charles-read-the-riot-act-to-prince-andrew-in-esptein-scandal-showdown/',\n",
       " 'https://nypost.com/2019/12/01/virginia-roberts-giuffre-to-tell-bbc-her-truth-about-jeffrey-epstein-prince-andrew/',\n",
       " 'https://nypost.com/2019/12/02/prince-andrews-disgraceful-bs-exposed-by-virginia-roberts-giuffre-interview/',\n",
       " 'https://nypost.com/2019/12/01/prince-charles-demands-andrew-be-open-and-honest-about-epstein-issue/',\n",
       " 'https://nypost.com/2019/12/04/virginia-roberts-giuffre-wants-ghislaine-maxwell-to-rot-in-jail/',\n",
       " 'https://nypost.com/2019/12/05/prince-philip-told-prince-andrew-to-take-his-punishment-for-endangering-royal-family/',\n",
       " 'https://nypost.com/2019/12/05/a-traitors-self-serving-memoir-and-other-commentary/',\n",
       " 'https://nypost.com/2019/12/02/virginia-roberts-giuffre-calls-bs-on-prince-andrews-ridiculous-excuses/',\n",
       " 'https://www.breitbart.com/crime/2019/12/02/nyt-david-boies-jeffrey-epstein-ethical-questions/',\n",
       " 'https://www.breitbart.com/europe/2019/12/06/what-trump-could-teach-boris-about-the-mainstream-media/']"
      ]
     },
     "execution_count": 6,
     "metadata": {},
     "output_type": "execute_result"
    }
   ],
   "source": [
    "url"
   ]
  },
  {
   "cell_type": "code",
   "execution_count": 1,
   "metadata": {},
   "outputs": [],
   "source": [
    "from urllib.parse import urlencode"
   ]
  },
  {
   "cell_type": "code",
   "execution_count": 24,
   "metadata": {},
   "outputs": [],
   "source": [
    "b = \"stanford\""
   ]
  },
  {
   "cell_type": "code",
   "execution_count": null,
   "metadata": {},
   "outputs": [],
   "source": []
  },
  {
   "cell_type": "code",
   "execution_count": 25,
   "metadata": {},
   "outputs": [],
   "source": [
    "mydict = {'q': a}"
   ]
  },
  {
   "cell_type": "code",
   "execution_count": 26,
   "metadata": {},
   "outputs": [],
   "source": [
    "a = urlencode(mydict)"
   ]
  },
  {
   "cell_type": "code",
   "execution_count": 27,
   "metadata": {},
   "outputs": [
    {
     "data": {
      "text/plain": [
       "'q=stanford'"
      ]
     },
     "execution_count": 27,
     "metadata": {},
     "output_type": "execute_result"
    }
   ],
   "source": [
    "a"
   ]
  },
  {
   "cell_type": "code",
   "execution_count": 14,
   "metadata": {},
   "outputs": [],
   "source": [
    "domains = ['washingtonpost.com', 'nytimes.com', 'cnn.com', 'foxnews.com',\n",
    "           'usatoday.com', 'npr.org', 'bloomberg.com','nypost.com','breitbart.com']"
   ]
  },
  {
   "cell_type": "code",
   "execution_count": 15,
   "metadata": {},
   "outputs": [],
   "source": [
    "newsapi = NewsApiClient(api_key='a3c4cafe7819435e8bc9e352724d5f6b')"
   ]
  },
  {
   "cell_type": "code",
   "execution_count": 18,
   "metadata": {},
   "outputs": [],
   "source": [
    "all_articles = newsapi.get_everything(a,\n",
    "                                      domains= domains[0],\n",
    "                                      from_param='2019-12-01',\n",
    "                                      to='2019-01-01',\n",
    "                                      language='en',\n",
    "                                      sort_by='relevancy',\n",
    "                                      page=1)\n",
    "    "
   ]
  },
  {
   "cell_type": "code",
   "execution_count": 19,
   "metadata": {},
   "outputs": [
    {
     "data": {
      "text/plain": [
       "{'status': 'ok',\n",
       " 'totalResults': 5,\n",
       " 'articles': [{'source': {'id': 'the-washington-post',\n",
       "    'name': 'The Washington Post'},\n",
       "   'author': 'Nick Anderson, The Washington Post',\n",
       "   'title': 'Fuentes rising...',\n",
       "   'description': 'Conservative commentator Ben Shapiro revised his usual bash-the-leftists script in a speech this month to a packed auditorium at Stanford University. \\n He still mocked the \"radical left,\" but on that evening, Shapiro unloaded on far-right figures who traffic …',\n",
       "   'url': 'http://www.washingtonpost.com/local/education/far-right-agitators-roil-the-conservative-movement-on-college-campuses-in-battle-to-define-trumpism/2019/11/16/a757d88a-0723-11ea-b17d-8b867891d39d_story.html',\n",
       "   'urlToImage': 'https://www.thehour.com/img/pages/article/opengraph_default.jpg',\n",
       "   'publishedAt': '2019-11-17T19:19:37Z',\n",
       "   'content': 'Conservative commentator Ben Shapiro revised his usual bash-the-leftists script in a speech this month to a packed auditorium at Stanford University.\\r\\nHe still mocked the \"radical left,\" but on that evening, Shapiro unloaded on far-right figures who traffic i… [+6181 chars]'},\n",
       "  {'source': {'id': 'the-washington-post', 'name': 'The Washington Post'},\n",
       "   'author': 'Brittany Shammas',\n",
       "   'title': 'More bad blood for Theranos founder Elizabeth Holmes — this time with her own attorneys - The Washington Post',\n",
       "   'description': \"More bad blood for Theranos founder Elizabeth Holmes — this time with her own attorneys The Washington Post Ex-billionaire Elizabeth Holmes can't pay lawyers defending her in Theranos fraud claim Fox Business Report: Lawyers representing Elizabeth Holmes want…\",\n",
       "   'url': 'https://www.washingtonpost.com/business/2019/10/05/more-bad-blood-theranos-founder-elizabeth-holmes-this-time-with-her-own-attorneys/',\n",
       "   'urlToImage': 'https://www.washingtonpost.com/resizer/ooLumPXgbiIueexgz7QLm7JGkk0=/1484x0/arc-anglerfish-washpost-prod-washpost.s3.amazonaws.com/public/HGFZC7XFJMI6TMFGHUBXEG4F54.jpg',\n",
       "   'publishedAt': '2019-10-05T21:45:00Z',\n",
       "   'content': 'Elizabeth Holmes once topped a Forbes list of the worlds youngest self-made female billionaires. Now she allegedly cant pay her legal fees.\\r\\nThree Cooley LLP lawyers representing the embattled Theranos founder in a lawsuit want off the case, writing in court … [+1692 chars]'},\n",
       "  {'source': {'id': 'the-washington-post', 'name': 'The Washington Post'},\n",
       "   'author': 'Sophie Alexander and Reade Pickert, Bloomberg',\n",
       "   'title': \"The good and the bad of Stanford's massively successful startup scene - Alton Telegraph\",\n",
       "   'description': \"The chances that your startup will become a billion-dollar company are almost zero. But if you do somehow manage to create a unicorn, the odds are better than 1-in-10 that you or your co-founder attended one school: Stanford.\\nIt's a remarkable statistic even …\",\n",
       "   'url': 'http://www.washingtonpost.com/arts-entertainment/2019/03/11/cats-cooking-heres-youtube-channel-that-combines-two-cornerstones-site/',\n",
       "   'urlToImage': 'https://s.hdnux.com/photos/01/01/03/42/17053859/3/rawImage.jpg',\n",
       "   'publishedAt': '2019-03-11T17:10:00Z',\n",
       "   'content': 'Mehran Sahami, a computer science professor at Stanford University, stands for a photograph at the William Gates Computer Science building on the Stanford University campus in Stanford, Calif., on Feb. 20, 2019.\\xa0More unicorn founders and top venture capitalis… [+11137 chars]'},\n",
       "  {'source': {'id': 'the-washington-post', 'name': 'The Washington Post'},\n",
       "   'author': 'James Hohmann',\n",
       "   'title': 'The Daily 202: ‘He had every right to do it.’ Giuliani defends Trump trying to coerce Ukraine’s president, ‘if he did.’',\n",
       "   'description': 'The president’s lawyer makes an expansive claim of presidential prerogative in a wild CNN interview.',\n",
       "   'url': 'https://www.washingtonpost.com/news/powerpost/paloma/daily-202/2019/09/20/daily-202-he-had-every-right-to-do-it-giuliani-defends-trump-trying-to-coerce-ukraine-s-president-if-he-did/5d84727a88e0fa0ba8961cce/',\n",
       "   'urlToImage': 'https://www.washingtonpost.com/pbox.php?url=https://palomaimages.washingtonpost.com/pr2/19322ae90d44de31dfa22a60a4da903d-4635-3094-70-8-WQ2TT4SB7EI6TBNNO6PPAX6Z3A.jpg&w=1484&op=resize&opt=1&filter=antialias&t=20170517',\n",
       "   'publishedAt': '2019-09-20T14:13:37Z',\n",
       "   'content': 'THE BIG IDEA:\\xa0Rudy Giulianis contentious conversation with Chris Cuomo last night recalled one of the more memorable moments in television history. In 1977, David Frost pressed Richard Nixon on why he had authorized burglaries, wiretapping and other illegal a… [+44715 chars]'},\n",
       "  {'source': {'id': 'the-washington-post', 'name': 'The Washington Post'},\n",
       "   'author': 'James Hohmann',\n",
       "   'title': 'The Daily 202: Scott Walker plans to crusade for a balanced-budget amendment via constitutional convention',\n",
       "   'description': 'The former Wisconsin governor says he’s also looking at a Senate bid in 2022.',\n",
       "   'url': 'https://www.washingtonpost.com/news/powerpost/paloma/daily-202/2019/03/19/daily-202-scott-walker-plans-to-crusade-for-a-balanced-budget-amendment-via-constitutional-convention/5c8fc3231b326b0f7f38f1b6/',\n",
       "   'urlToImage': 'https://www.washingtonpost.com/pbox.php?url=https://palomaimages.washingtonpost.com/pr2/ae73107c78bcf1986ea2ecc19f9fce45-3160-2107-70-8-NVYGMLQQJQI6TDYMN6DYUJRIRI.jpg&w=1484&op=resize&opt=1&filter=antialias&t=20170517',\n",
       "   'publishedAt': '2019-03-19T14:16:28Z',\n",
       "   'content': \"Ousted Wisconsin Gov. Scott Walker (R) left office in January. He's been figuring out what's next. (Scott Bauer/AP)\\r\\nTHE BIG IDEA:\\xa0Scott Walker will chair a nonprofit group that aims to enact a federal balanced-budget amendment by convincing state legislature… [+68685 chars]\"}]}"
      ]
     },
     "execution_count": 19,
     "metadata": {},
     "output_type": "execute_result"
    }
   ],
   "source": [
    "all_articles"
   ]
  },
  {
   "cell_type": "code",
   "execution_count": null,
   "metadata": {},
   "outputs": [],
   "source": []
  },
  {
   "cell_type": "code",
   "execution_count": null,
   "metadata": {},
   "outputs": [],
   "source": []
  },
  {
   "cell_type": "code",
   "execution_count": null,
   "metadata": {},
   "outputs": [],
   "source": []
  },
  {
   "cell_type": "code",
   "execution_count": 15,
   "metadata": {},
   "outputs": [],
   "source": [
    "from tkinter import*"
   ]
  },
  {
   "cell_type": "code",
   "execution_count": 16,
   "metadata": {},
   "outputs": [],
   "source": [
    "master=Tk()"
   ]
  },
  {
   "cell_type": "code",
   "execution_count": 20,
   "metadata": {},
   "outputs": [],
   "source": [
    "Label(master, text='Search Query').grid(row=0)"
   ]
  },
  {
   "cell_type": "code",
   "execution_count": 21,
   "metadata": {},
   "outputs": [],
   "source": [
    "e1= Entry(master)\n",
    "e1.grid(row=0, column=1)"
   ]
  },
  {
   "cell_type": "code",
   "execution_count": 22,
   "metadata": {},
   "outputs": [],
   "source": [
    "mainloop()"
   ]
  },
  {
   "cell_type": "code",
   "execution_count": 24,
   "metadata": {},
   "outputs": [
    {
     "ename": "TclError",
     "evalue": "invalid command name \".!entry2\"",
     "output_type": "error",
     "traceback": [
      "\u001b[0;31m---------------------------------------------------------------------------\u001b[0m",
      "\u001b[0;31mTclError\u001b[0m                                  Traceback (most recent call last)",
      "\u001b[0;32m<ipython-input-24-3fe072e61266>\u001b[0m in \u001b[0;36m<module>\u001b[0;34m\u001b[0m\n\u001b[0;32m----> 1\u001b[0;31m \u001b[0me1\u001b[0m\u001b[0;34m.\u001b[0m\u001b[0mget\u001b[0m\u001b[0;34m(\u001b[0m\u001b[0;34m)\u001b[0m\u001b[0;34m\u001b[0m\u001b[0;34m\u001b[0m\u001b[0m\n\u001b[0m",
      "\u001b[0;32m/Library/Frameworks/Python.framework/Versions/3.7/lib/python3.7/tkinter/__init__.py\u001b[0m in \u001b[0;36mget\u001b[0;34m(self)\u001b[0m\n\u001b[1;32m   2680\u001b[0m     \u001b[0;32mdef\u001b[0m \u001b[0mget\u001b[0m\u001b[0;34m(\u001b[0m\u001b[0mself\u001b[0m\u001b[0;34m)\u001b[0m\u001b[0;34m:\u001b[0m\u001b[0;34m\u001b[0m\u001b[0;34m\u001b[0m\u001b[0m\n\u001b[1;32m   2681\u001b[0m         \u001b[0;34m\"\"\"Return the text.\"\"\"\u001b[0m\u001b[0;34m\u001b[0m\u001b[0;34m\u001b[0m\u001b[0m\n\u001b[0;32m-> 2682\u001b[0;31m         \u001b[0;32mreturn\u001b[0m \u001b[0mself\u001b[0m\u001b[0;34m.\u001b[0m\u001b[0mtk\u001b[0m\u001b[0;34m.\u001b[0m\u001b[0mcall\u001b[0m\u001b[0;34m(\u001b[0m\u001b[0mself\u001b[0m\u001b[0;34m.\u001b[0m\u001b[0m_w\u001b[0m\u001b[0;34m,\u001b[0m \u001b[0;34m'get'\u001b[0m\u001b[0;34m)\u001b[0m\u001b[0;34m\u001b[0m\u001b[0;34m\u001b[0m\u001b[0m\n\u001b[0m\u001b[1;32m   2683\u001b[0m     \u001b[0;32mdef\u001b[0m \u001b[0micursor\u001b[0m\u001b[0;34m(\u001b[0m\u001b[0mself\u001b[0m\u001b[0;34m,\u001b[0m \u001b[0mindex\u001b[0m\u001b[0;34m)\u001b[0m\u001b[0;34m:\u001b[0m\u001b[0;34m\u001b[0m\u001b[0;34m\u001b[0m\u001b[0m\n\u001b[1;32m   2684\u001b[0m         \u001b[0;34m\"\"\"Insert cursor at INDEX.\"\"\"\u001b[0m\u001b[0;34m\u001b[0m\u001b[0;34m\u001b[0m\u001b[0m\n",
      "\u001b[0;31mTclError\u001b[0m: invalid command name \".!entry2\""
     ]
    }
   ],
   "source": [
    "e1.get()"
   ]
  },
  {
   "cell_type": "code",
   "execution_count": 6,
   "metadata": {},
   "outputs": [
    {
     "name": "stdout",
     "output_type": "stream",
     "text": [
      "First Name: \n",
      "Last Name: \n",
      "First Name: \n",
      "Last Name: \n"
     ]
    }
   ],
   "source": [
    "import tkinter as tk\n",
    "\n",
    "def show_entry_fields():\n",
    "    print(\"First Name: %s\\nLast Name: %s\" % (e1.get(), e2.get()))\n",
    "\n",
    "master = tk.Tk()\n",
    "tk.Label(master, \n",
    "         text=\"Search Query\").grid(row=0)\n",
    "tk.Label(master, \n",
    "         text=\"Start Date : Format: YYYY-MM-DD\").grid(row=1)\n",
    "tk.Label(master, \n",
    "         text=\"End Date : Format: YYYY-MM-DD\").grid(row=2)\n",
    "\n",
    "domains = ['washingtonpost.com', 'nytimes.com', 'cnn.com', 'foxnews.com',\n",
    "           'usatoday.com', 'npr.org', 'bloomberg.com','nypost.com','breitbart.com']\n",
    "listbox = tk.Listbox(master)\n",
    "for item in domains:\n",
    "    listbox.insert(tk.END,item)\n",
    "    \n",
    "    \n",
    "e1 = tk.Entry(master)\n",
    "e2 = tk.Entry(master)\n",
    "e3 = tk.Entry(master)\n",
    "\n",
    "e1.grid(row=0, column=1)\n",
    "e2.grid(row=1, column=1)\n",
    "e3.grid(row=2, column=1)\n",
    "listbox.grid(row=3, column=1)\n",
    "\n",
    "tk.Button(master, \n",
    "          text='Quit', \n",
    "          command=master.quit).grid(row=3, \n",
    "                                    column=0, \n",
    "                                    sticky=tk.W, \n",
    "                                    pady=4)\n",
    "tk.Button(master, \n",
    "          text='Show', command=show_entry_fields).grid(row=3, \n",
    "                                                       column=1, \n",
    "                                                       sticky=tk.W, \n",
    "                                                       pady=4)\n",
    "\n",
    "tk.mainloop()"
   ]
  },
  {
   "cell_type": "code",
   "execution_count": 8,
   "metadata": {},
   "outputs": [],
   "source": [
    "import pandas as pd\n",
    "news = pd.read_csv('new_data2.csv')"
   ]
  },
  {
   "cell_type": "code",
   "execution_count": 9,
   "metadata": {},
   "outputs": [
    {
     "data": {
      "text/html": [
       "<div>\n",
       "<style scoped>\n",
       "    .dataframe tbody tr th:only-of-type {\n",
       "        vertical-align: middle;\n",
       "    }\n",
       "\n",
       "    .dataframe tbody tr th {\n",
       "        vertical-align: top;\n",
       "    }\n",
       "\n",
       "    .dataframe thead th {\n",
       "        text-align: right;\n",
       "    }\n",
       "</style>\n",
       "<table border=\"1\" class=\"dataframe\">\n",
       "  <thead>\n",
       "    <tr style=\"text-align: right;\">\n",
       "      <th></th>\n",
       "      <th>Unnamed: 0</th>\n",
       "      <th>source</th>\n",
       "      <th>author</th>\n",
       "      <th>title</th>\n",
       "      <th>published_time</th>\n",
       "      <th>url</th>\n",
       "      <th>content</th>\n",
       "      <th>words</th>\n",
       "    </tr>\n",
       "  </thead>\n",
       "  <tbody>\n",
       "    <tr>\n",
       "      <td>0</td>\n",
       "      <td>0</td>\n",
       "      <td>The Washington Post</td>\n",
       "      <td>Seung Min Kim, Mike DeBonis, Rachael Bade and ...</td>\n",
       "      <td>White House gears up for aggressive effort to ...</td>\n",
       "      <td>2019-12-05T01:25:37Z</td>\n",
       "      <td>http://www.washingtonpost.com/politics/impeach...</td>\n",
       "      <td>Here’s what you need to know to understand the...</td>\n",
       "      <td>241</td>\n",
       "    </tr>\n",
       "    <tr>\n",
       "      <td>1</td>\n",
       "      <td>1</td>\n",
       "      <td>The Washington Post</td>\n",
       "      <td>Paul Kane, The Washington Post</td>\n",
       "      <td>Trump rejects Nixon, Clinton precedent...</td>\n",
       "      <td>2019-12-05T01:25:37Z</td>\n",
       "      <td>http://www.washingtonpost.com/powerpost/the-mi...</td>\n",
       "      <td>“I’m very well, Ken,” Kendall said.\\n\\nFor the...</td>\n",
       "      <td>1042</td>\n",
       "    </tr>\n",
       "    <tr>\n",
       "      <td>2</td>\n",
       "      <td>2</td>\n",
       "      <td>The Washington Post</td>\n",
       "      <td>Paul Kane, The Washington Post</td>\n",
       "      <td>Consequential choice -- limited or broad artic...</td>\n",
       "      <td>2019-12-07T16:10:37Z</td>\n",
       "      <td>http://www.washingtonpost.com/powerpost/democr...</td>\n",
       "      <td>Ever since his report was released in the spri...</td>\n",
       "      <td>1014</td>\n",
       "    </tr>\n",
       "    <tr>\n",
       "      <td>3</td>\n",
       "      <td>3</td>\n",
       "      <td>The Washington Post</td>\n",
       "      <td>Matt Zapotosky</td>\n",
       "      <td>More than 500 law professors say Trump committ...</td>\n",
       "      <td>2019-12-06T16:17:00Z</td>\n",
       "      <td>https://www.washingtonpost.com/national-securi...</td>\n",
       "      <td>Here’s what you need to know to understand the...</td>\n",
       "      <td>241</td>\n",
       "    </tr>\n",
       "    <tr>\n",
       "      <td>4</td>\n",
       "      <td>4</td>\n",
       "      <td>The Washington Post</td>\n",
       "      <td>Allyson Chiu</td>\n",
       "      <td>‘#DontMessWithNancy’: Pelosi’s viral clash wit...</td>\n",
       "      <td>2019-12-06T12:34:00Z</td>\n",
       "      <td>https://www.washingtonpost.com/nation/2019/12/...</td>\n",
       "      <td>Much like Pelosi’s past brushes with viral fam...</td>\n",
       "      <td>1189</td>\n",
       "    </tr>\n",
       "    <tr>\n",
       "      <td>...</td>\n",
       "      <td>...</td>\n",
       "      <td>...</td>\n",
       "      <td>...</td>\n",
       "      <td>...</td>\n",
       "      <td>...</td>\n",
       "      <td>...</td>\n",
       "      <td>...</td>\n",
       "      <td>...</td>\n",
       "    </tr>\n",
       "    <tr>\n",
       "      <td>125</td>\n",
       "      <td>175</td>\n",
       "      <td>Breitbart News</td>\n",
       "      <td>Pam Key, Pam Key</td>\n",
       "      <td>Dem Rep. Yarmuth: If Trump Is Removed GOP Woul...</td>\n",
       "      <td>2019-12-02T18:31:14Z</td>\n",
       "      <td>https://www.breitbart.com/clips/2019/12/02/dem...</td>\n",
       "      <td>On Monday’s broadcast of CNN’s “At This Hour,”...</td>\n",
       "      <td>155</td>\n",
       "    </tr>\n",
       "    <tr>\n",
       "      <td>126</td>\n",
       "      <td>176</td>\n",
       "      <td>Breitbart News</td>\n",
       "      <td>Sean Moran</td>\n",
       "      <td>UPDATE: Republican GA Gov Defies Trump with Se...</td>\n",
       "      <td>2019-12-04T17:22:37Z</td>\n",
       "      <td>https://www.breitbart.com/politics/2019/12/04/...</td>\n",
       "      <td>Georgia Republican Gov. Brian Kemp nominated b...</td>\n",
       "      <td>892</td>\n",
       "    </tr>\n",
       "    <tr>\n",
       "      <td>127</td>\n",
       "      <td>177</td>\n",
       "      <td>Breitbart News</td>\n",
       "      <td>Charlie Spiering, Charlie Spiering</td>\n",
       "      <td>Donald Trump Boasts Record Numbers: 'It’s the ...</td>\n",
       "      <td>2019-12-06T14:54:11Z</td>\n",
       "      <td>https://www.breitbart.com/politics/2019/12/06/...</td>\n",
       "      <td>President Donald Trump boasted record economic...</td>\n",
       "      <td>211</td>\n",
       "    </tr>\n",
       "    <tr>\n",
       "      <td>128</td>\n",
       "      <td>178</td>\n",
       "      <td>Breitbart News</td>\n",
       "      <td>Joel B. Pollak, Joel B. Pollak</td>\n",
       "      <td>Report: Rudy Giuliani in Ukraine to Interview ...</td>\n",
       "      <td>2019-12-05T20:22:14Z</td>\n",
       "      <td>https://www.breitbart.com/politics/2019/12/05/...</td>\n",
       "      <td>Former New York City Mayor Rudy Giuliani, who ...</td>\n",
       "      <td>550</td>\n",
       "    </tr>\n",
       "    <tr>\n",
       "      <td>129</td>\n",
       "      <td>179</td>\n",
       "      <td>Breitbart News</td>\n",
       "      <td>Joshua Caplan, Joshua Caplan</td>\n",
       "      <td>George Conway Rips Trump in First Twitter Jab ...</td>\n",
       "      <td>2019-12-02T21:41:04Z</td>\n",
       "      <td>https://www.breitbart.com/politics/2019/12/02/...</td>\n",
       "      <td>Attorney George Conway on Monday took what app...</td>\n",
       "      <td>331</td>\n",
       "    </tr>\n",
       "  </tbody>\n",
       "</table>\n",
       "<p>130 rows × 8 columns</p>\n",
       "</div>"
      ],
      "text/plain": [
       "     Unnamed: 0               source  \\\n",
       "0             0  The Washington Post   \n",
       "1             1  The Washington Post   \n",
       "2             2  The Washington Post   \n",
       "3             3  The Washington Post   \n",
       "4             4  The Washington Post   \n",
       "..          ...                  ...   \n",
       "125         175       Breitbart News   \n",
       "126         176       Breitbart News   \n",
       "127         177       Breitbart News   \n",
       "128         178       Breitbart News   \n",
       "129         179       Breitbart News   \n",
       "\n",
       "                                                author  \\\n",
       "0    Seung Min Kim, Mike DeBonis, Rachael Bade and ...   \n",
       "1                       Paul Kane, The Washington Post   \n",
       "2                       Paul Kane, The Washington Post   \n",
       "3                                       Matt Zapotosky   \n",
       "4                                         Allyson Chiu   \n",
       "..                                                 ...   \n",
       "125                                   Pam Key, Pam Key   \n",
       "126                                         Sean Moran   \n",
       "127                 Charlie Spiering, Charlie Spiering   \n",
       "128                     Joel B. Pollak, Joel B. Pollak   \n",
       "129                       Joshua Caplan, Joshua Caplan   \n",
       "\n",
       "                                                 title        published_time  \\\n",
       "0    White House gears up for aggressive effort to ...  2019-12-05T01:25:37Z   \n",
       "1            Trump rejects Nixon, Clinton precedent...  2019-12-05T01:25:37Z   \n",
       "2    Consequential choice -- limited or broad artic...  2019-12-07T16:10:37Z   \n",
       "3    More than 500 law professors say Trump committ...  2019-12-06T16:17:00Z   \n",
       "4    ‘#DontMessWithNancy’: Pelosi’s viral clash wit...  2019-12-06T12:34:00Z   \n",
       "..                                                 ...                   ...   \n",
       "125  Dem Rep. Yarmuth: If Trump Is Removed GOP Woul...  2019-12-02T18:31:14Z   \n",
       "126  UPDATE: Republican GA Gov Defies Trump with Se...  2019-12-04T17:22:37Z   \n",
       "127  Donald Trump Boasts Record Numbers: 'It’s the ...  2019-12-06T14:54:11Z   \n",
       "128  Report: Rudy Giuliani in Ukraine to Interview ...  2019-12-05T20:22:14Z   \n",
       "129  George Conway Rips Trump in First Twitter Jab ...  2019-12-02T21:41:04Z   \n",
       "\n",
       "                                                   url  \\\n",
       "0    http://www.washingtonpost.com/politics/impeach...   \n",
       "1    http://www.washingtonpost.com/powerpost/the-mi...   \n",
       "2    http://www.washingtonpost.com/powerpost/democr...   \n",
       "3    https://www.washingtonpost.com/national-securi...   \n",
       "4    https://www.washingtonpost.com/nation/2019/12/...   \n",
       "..                                                 ...   \n",
       "125  https://www.breitbart.com/clips/2019/12/02/dem...   \n",
       "126  https://www.breitbart.com/politics/2019/12/04/...   \n",
       "127  https://www.breitbart.com/politics/2019/12/06/...   \n",
       "128  https://www.breitbart.com/politics/2019/12/05/...   \n",
       "129  https://www.breitbart.com/politics/2019/12/02/...   \n",
       "\n",
       "                                               content  words  \n",
       "0    Here’s what you need to know to understand the...    241  \n",
       "1    “I’m very well, Ken,” Kendall said.\\n\\nFor the...   1042  \n",
       "2    Ever since his report was released in the spri...   1014  \n",
       "3    Here’s what you need to know to understand the...    241  \n",
       "4    Much like Pelosi’s past brushes with viral fam...   1189  \n",
       "..                                                 ...    ...  \n",
       "125  On Monday’s broadcast of CNN’s “At This Hour,”...    155  \n",
       "126  Georgia Republican Gov. Brian Kemp nominated b...    892  \n",
       "127  President Donald Trump boasted record economic...    211  \n",
       "128  Former New York City Mayor Rudy Giuliani, who ...    550  \n",
       "129  Attorney George Conway on Monday took what app...    331  \n",
       "\n",
       "[130 rows x 8 columns]"
      ]
     },
     "execution_count": 9,
     "metadata": {},
     "output_type": "execute_result"
    }
   ],
   "source": [
    "news"
   ]
  },
  {
   "cell_type": "code",
   "execution_count": 18,
   "metadata": {},
   "outputs": [],
   "source": [
    "a = \"Hello World\""
   ]
  },
  {
   "cell_type": "code",
   "execution_count": null,
   "metadata": {},
   "outputs": [],
   "source": []
  },
  {
   "cell_type": "code",
   "execution_count": null,
   "metadata": {},
   "outputs": [],
   "source": []
  }
 ],
 "metadata": {
  "kernelspec": {
   "display_name": "Python 3",
   "language": "python",
   "name": "python3"
  },
  "language_info": {
   "codemirror_mode": {
    "name": "ipython",
    "version": 3
   },
   "file_extension": ".py",
   "mimetype": "text/x-python",
   "name": "python",
   "nbconvert_exporter": "python",
   "pygments_lexer": "ipython3",
   "version": "3.7.4"
  }
 },
 "nbformat": 4,
 "nbformat_minor": 2
}
